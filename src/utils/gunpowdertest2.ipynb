{
 "cells": [
  {
   "cell_type": "code",
   "execution_count": 1,
   "metadata": {},
   "outputs": [],
   "source": [
    "import gunpowder as gp\n",
    "import numpy as np\n",
    "import zarr\n",
    "import matplotlib.pyplot as plt\n",
    "import math"
   ]
  },
  {
   "cell_type": "code",
   "execution_count": 2,
   "metadata": {},
   "outputs": [],
   "source": [
    "def imshowPair(img1, img2):\n",
    "    fig, ax = plt.subplots(1, 2)\n",
    "    ax[0].imshow(img1)\n",
    "    ax[1].imshow(img2)\n",
    "\n",
    "def imshow(image):\n",
    "  if len(image.shape) == 2:\n",
    "    plt.imshow(image)\n",
    "  elif len(image.shape) == 3:\n",
    "    plt.imshow(image.transpose(1, 2, 0))\n",
    "  else:\n",
    "    fig, axes = plt.subplots(1, image.shape[0], figsize=(10, 10), sharex=True, sharey=True)\n",
    "    for i, im in enumerate(image):\n",
    "      axes[i].imshow(im.transpose(1, 2, 0))\n",
    "    plt.show()"
   ]
  },
  {
   "cell_type": "code",
   "execution_count": 3,
   "metadata": {},
   "outputs": [
    {
     "data": {
      "application/vnd.jupyter.widget-view+json": {
       "model_id": "3e9fec8e3ab842cd80169db9d5b73129",
       "version_major": 2,
       "version_minor": 0
      },
      "text/plain": [
       "Tree(nodes=(Node(disabled=True, name='/', nodes=(Node(disabled=True, name='gt', nodes=(Node(disabled=True, ico…"
      ]
     },
     "execution_count": 3,
     "metadata": {},
     "output_type": "execute_result"
    }
   ],
   "source": [
    "pathZarr = \"/mnt/efs/shared_data/restorators/monalisa_data/Actin_20nmScanStep/dataB.zarr\"\n",
    "data = zarr.open(pathZarr, mode='r')\n",
    "data.tree(expand=True)"
   ]
  },
  {
   "cell_type": "code",
   "execution_count": 7,
   "metadata": {},
   "outputs": [
    {
     "ename": "KeyError",
     "evalue": "1",
     "output_type": "error",
     "traceback": [
      "\u001b[0;31m---------------------------------------------------------------------------\u001b[0m",
      "\u001b[0;31mKeyError\u001b[0m                                  Traceback (most recent call last)",
      "Cell \u001b[0;32mIn[7], line 1\u001b[0m\n\u001b[0;32m----> 1\u001b[0m data[\u001b[39m1\u001b[39;49m]\n",
      "File \u001b[0;32m~/conda/envs/FC/lib/python3.10/site-packages/zarr/hierarchy.py:500\u001b[0m, in \u001b[0;36mGroup.__getitem__\u001b[0;34m(self, item)\u001b[0m\n\u001b[1;32m    498\u001b[0m         \u001b[39mraise\u001b[39;00m \u001b[39mKeyError\u001b[39;00m(item)\n\u001b[1;32m    499\u001b[0m \u001b[39melse\u001b[39;00m:\n\u001b[0;32m--> 500\u001b[0m     \u001b[39mraise\u001b[39;00m \u001b[39mKeyError\u001b[39;00m(item)\n",
      "\u001b[0;31mKeyError\u001b[0m: 1"
     ]
    }
   ],
   "source": [
    "data[1]"
   ]
  },
  {
   "cell_type": "code",
   "execution_count": 18,
   "metadata": {},
   "outputs": [],
   "source": [
    "raw = gp.ArrayKey('RAW')\n",
    "gt = gp.ArrayKey('GT')\n",
    "\n",
    "source = gp.ZarrSource(\n",
    "    pathZarr,\n",
    "    {\n",
    "      raw: 'tr',\n",
    "      gt: 'gt'\n",
    "    },\n",
    "    {\n",
    "      raw: gp.ArraySpec(interpolatable=True),\n",
    "      gt: gp.ArraySpec(interpolatable=False)\n",
    "    })\n",
    "\n",
    "request = gp.BatchRequest()\n",
    "request[raw] = gp.Roi((0, 0), (256, 256))\n",
    "request[gt] = gp.Roi((0, 0), (256, 256))\n",
    "\n",
    "pipeline = (\n",
    "    source +\n",
    "    gp.RandomLocation() +\n",
    "    gp.SimpleAugment()\n",
    ")"
   ]
  },
  {
   "cell_type": "code",
   "execution_count": 19,
   "metadata": {},
   "outputs": [
    {
     "name": "stderr",
     "output_type": "stream",
     "text": [
      "something went wrong during the setup of the pipeline, calling tear down\n"
     ]
    },
    {
     "ename": "PipelineSetupError",
     "evalue": "Exception in ZarrSource[/mnt/efs/shared_data/restorators/monalisa_data/Actin_20nmScanStep/dataB.zarr] while calling setup()",
     "output_type": "error",
     "traceback": [
      "\u001b[0;31m---------------------------------------------------------------------------\u001b[0m",
      "\u001b[0;31mKeyError\u001b[0m                                  Traceback (most recent call last)",
      "File \u001b[0;32m~/conda/envs/FC/lib/python3.10/site-packages/zarr/hierarchy.py:520\u001b[0m, in \u001b[0;36mGroup.__getattr__\u001b[0;34m(self, item)\u001b[0m\n\u001b[1;32m    519\u001b[0m \u001b[39mtry\u001b[39;00m:\n\u001b[0;32m--> 520\u001b[0m     \u001b[39mreturn\u001b[39;00m \u001b[39mself\u001b[39;49m\u001b[39m.\u001b[39;49m\u001b[39m__getitem__\u001b[39;49m(item)\n\u001b[1;32m    521\u001b[0m \u001b[39mexcept\u001b[39;00m \u001b[39mKeyError\u001b[39;00m:\n",
      "File \u001b[0;32m~/conda/envs/FC/lib/python3.10/site-packages/zarr/hierarchy.py:500\u001b[0m, in \u001b[0;36mGroup.__getitem__\u001b[0;34m(self, item)\u001b[0m\n\u001b[1;32m    499\u001b[0m \u001b[39melse\u001b[39;00m:\n\u001b[0;32m--> 500\u001b[0m     \u001b[39mraise\u001b[39;00m \u001b[39mKeyError\u001b[39;00m(item)\n",
      "\u001b[0;31mKeyError\u001b[0m: 'shape'",
      "\nDuring handling of the above exception, another exception occurred:\n",
      "\u001b[0;31mAttributeError\u001b[0m                            Traceback (most recent call last)",
      "File \u001b[0;32m~/conda/envs/FC/lib/python3.10/site-packages/gunpowder/pipeline.py:87\u001b[0m, in \u001b[0;36mPipeline.setup.<locals>.node_setup\u001b[0;34m(node)\u001b[0m\n\u001b[1;32m     86\u001b[0m \u001b[39mtry\u001b[39;00m:\n\u001b[0;32m---> 87\u001b[0m     node\u001b[39m.\u001b[39;49moutput\u001b[39m.\u001b[39;49msetup()\n\u001b[1;32m     88\u001b[0m \u001b[39mexcept\u001b[39;00m \u001b[39mException\u001b[39;00m \u001b[39mas\u001b[39;00m e:\n",
      "File \u001b[0;32m~/conda/envs/FC/lib/python3.10/site-packages/gunpowder/nodes/zarr_source.py:121\u001b[0m, in \u001b[0;36mZarrSource.setup\u001b[0;34m(self)\u001b[0m\n\u001b[1;32m    119\u001b[0m     \u001b[39mraise\u001b[39;00m \u001b[39mRuntimeError\u001b[39;00m(\u001b[39m\"\u001b[39m\u001b[39m%s\u001b[39;00m\u001b[39m not in \u001b[39m\u001b[39m%s\u001b[39;00m\u001b[39m\"\u001b[39m \u001b[39m%\u001b[39m (ds_name, \u001b[39mself\u001b[39m\u001b[39m.\u001b[39mstore))\n\u001b[0;32m--> 121\u001b[0m spec \u001b[39m=\u001b[39m \u001b[39mself\u001b[39;49m\u001b[39m.\u001b[39;49m__read_spec(array_key, data_file, ds_name)\n\u001b[1;32m    123\u001b[0m \u001b[39mself\u001b[39m\u001b[39m.\u001b[39mprovides(array_key, spec)\n",
      "File \u001b[0;32m~/conda/envs/FC/lib/python3.10/site-packages/gunpowder/nodes/zarr_source.py:191\u001b[0m, in \u001b[0;36mZarrSource.__read_spec\u001b[0;34m(self, array_key, data_file, ds_name)\u001b[0m\n\u001b[1;32m    190\u001b[0m \u001b[39mif\u001b[39;00m \u001b[39mself\u001b[39m\u001b[39m.\u001b[39mchannels_first:\n\u001b[0;32m--> 191\u001b[0m     shape \u001b[39m=\u001b[39m Coordinate(dataset\u001b[39m.\u001b[39;49mshape[\u001b[39m-\u001b[39m\u001b[39mself\u001b[39m\u001b[39m.\u001b[39mndims :])\n\u001b[1;32m    192\u001b[0m \u001b[39melse\u001b[39;00m:\n",
      "File \u001b[0;32m~/conda/envs/FC/lib/python3.10/site-packages/zarr/hierarchy.py:522\u001b[0m, in \u001b[0;36mGroup.__getattr__\u001b[0;34m(self, item)\u001b[0m\n\u001b[1;32m    521\u001b[0m \u001b[39mexcept\u001b[39;00m \u001b[39mKeyError\u001b[39;00m:\n\u001b[0;32m--> 522\u001b[0m     \u001b[39mraise\u001b[39;00m \u001b[39mAttributeError\u001b[39;00m\n",
      "\u001b[0;31mAttributeError\u001b[0m: ",
      "\nThe above exception was the direct cause of the following exception:\n",
      "\u001b[0;31mPipelineSetupError\u001b[0m                        Traceback (most recent call last)",
      "Cell \u001b[0;32mIn[19], line 1\u001b[0m\n\u001b[0;32m----> 1\u001b[0m \u001b[39mwith\u001b[39;00m gp\u001b[39m.\u001b[39mbuild(pipeline):\n\u001b[1;32m      2\u001b[0m     batch \u001b[39m=\u001b[39m pipeline\u001b[39m.\u001b[39mrequest_batch(request)\n\u001b[1;32m      4\u001b[0m imshowPair(batch[raw]\u001b[39m.\u001b[39mdata\u001b[39m.\u001b[39msqueeze()[\u001b[39m0\u001b[39m], batch[gt]\u001b[39m.\u001b[39mdata\u001b[39m.\u001b[39msqueeze()[\u001b[39m0\u001b[39m])\n",
      "File \u001b[0;32m~/conda/envs/FC/lib/python3.10/site-packages/gunpowder/build.py:12\u001b[0m, in \u001b[0;36mbuild.__enter__\u001b[0;34m(self)\u001b[0m\n\u001b[1;32m     10\u001b[0m \u001b[39mdef\u001b[39;00m \u001b[39m__enter__\u001b[39m(\u001b[39mself\u001b[39m):\n\u001b[1;32m     11\u001b[0m     \u001b[39mtry\u001b[39;00m:\n\u001b[0;32m---> 12\u001b[0m         \u001b[39mself\u001b[39;49m\u001b[39m.\u001b[39;49mpipeline\u001b[39m.\u001b[39;49msetup()\n\u001b[1;32m     13\u001b[0m     \u001b[39mexcept\u001b[39;00m:\n\u001b[1;32m     14\u001b[0m         logger\u001b[39m.\u001b[39merror(\n\u001b[1;32m     15\u001b[0m             \u001b[39m\"\u001b[39m\u001b[39msomething went wrong during the setup of the pipeline, calling tear down\u001b[39m\u001b[39m\"\u001b[39m\n\u001b[1;32m     16\u001b[0m         )\n",
      "File \u001b[0;32m~/conda/envs/FC/lib/python3.10/site-packages/gunpowder/pipeline.py:91\u001b[0m, in \u001b[0;36mPipeline.setup\u001b[0;34m(self)\u001b[0m\n\u001b[1;32m     88\u001b[0m         \u001b[39mexcept\u001b[39;00m \u001b[39mException\u001b[39;00m \u001b[39mas\u001b[39;00m e:\n\u001b[1;32m     89\u001b[0m             \u001b[39mraise\u001b[39;00m PipelineSetupError(node\u001b[39m.\u001b[39moutput) \u001b[39mfrom\u001b[39;00m \u001b[39me\u001b[39;00m\n\u001b[0;32m---> 91\u001b[0m     \u001b[39mself\u001b[39;49m\u001b[39m.\u001b[39;49mtraverse(node_setup, reverse\u001b[39m=\u001b[39;49m\u001b[39mTrue\u001b[39;49;00m)\n\u001b[1;32m     92\u001b[0m     \u001b[39mself\u001b[39m\u001b[39m.\u001b[39minitialized \u001b[39m=\u001b[39m \u001b[39mTrue\u001b[39;00m\n\u001b[1;32m     93\u001b[0m \u001b[39melse\u001b[39;00m:\n",
      "File \u001b[0;32m~/conda/envs/FC/lib/python3.10/site-packages/gunpowder/pipeline.py:57\u001b[0m, in \u001b[0;36mPipeline.traverse\u001b[0;34m(self, callback, reverse)\u001b[0m\n\u001b[1;32m     55\u001b[0m     result\u001b[39m.\u001b[39mappend(callback(\u001b[39mself\u001b[39m))\n\u001b[1;32m     56\u001b[0m \u001b[39mfor\u001b[39;00m child \u001b[39min\u001b[39;00m \u001b[39mself\u001b[39m\u001b[39m.\u001b[39mchildren:\n\u001b[0;32m---> 57\u001b[0m     result\u001b[39m.\u001b[39mappend(child\u001b[39m.\u001b[39;49mtraverse(callback, reverse))\n\u001b[1;32m     58\u001b[0m \u001b[39mif\u001b[39;00m reverse:\n\u001b[1;32m     59\u001b[0m     result\u001b[39m.\u001b[39mappend(callback(\u001b[39mself\u001b[39m))\n",
      "File \u001b[0;32m~/conda/envs/FC/lib/python3.10/site-packages/gunpowder/pipeline.py:57\u001b[0m, in \u001b[0;36mPipeline.traverse\u001b[0;34m(self, callback, reverse)\u001b[0m\n\u001b[1;32m     55\u001b[0m     result\u001b[39m.\u001b[39mappend(callback(\u001b[39mself\u001b[39m))\n\u001b[1;32m     56\u001b[0m \u001b[39mfor\u001b[39;00m child \u001b[39min\u001b[39;00m \u001b[39mself\u001b[39m\u001b[39m.\u001b[39mchildren:\n\u001b[0;32m---> 57\u001b[0m     result\u001b[39m.\u001b[39mappend(child\u001b[39m.\u001b[39;49mtraverse(callback, reverse))\n\u001b[1;32m     58\u001b[0m \u001b[39mif\u001b[39;00m reverse:\n\u001b[1;32m     59\u001b[0m     result\u001b[39m.\u001b[39mappend(callback(\u001b[39mself\u001b[39m))\n",
      "File \u001b[0;32m~/conda/envs/FC/lib/python3.10/site-packages/gunpowder/pipeline.py:59\u001b[0m, in \u001b[0;36mPipeline.traverse\u001b[0;34m(self, callback, reverse)\u001b[0m\n\u001b[1;32m     57\u001b[0m     result\u001b[39m.\u001b[39mappend(child\u001b[39m.\u001b[39mtraverse(callback, reverse))\n\u001b[1;32m     58\u001b[0m \u001b[39mif\u001b[39;00m reverse:\n\u001b[0;32m---> 59\u001b[0m     result\u001b[39m.\u001b[39mappend(callback(\u001b[39mself\u001b[39;49m))\n\u001b[1;32m     61\u001b[0m \u001b[39mreturn\u001b[39;00m result\n",
      "File \u001b[0;32m~/conda/envs/FC/lib/python3.10/site-packages/gunpowder/pipeline.py:89\u001b[0m, in \u001b[0;36mPipeline.setup.<locals>.node_setup\u001b[0;34m(node)\u001b[0m\n\u001b[1;32m     87\u001b[0m     node\u001b[39m.\u001b[39moutput\u001b[39m.\u001b[39msetup()\n\u001b[1;32m     88\u001b[0m \u001b[39mexcept\u001b[39;00m \u001b[39mException\u001b[39;00m \u001b[39mas\u001b[39;00m e:\n\u001b[0;32m---> 89\u001b[0m     \u001b[39mraise\u001b[39;00m PipelineSetupError(node\u001b[39m.\u001b[39moutput) \u001b[39mfrom\u001b[39;00m \u001b[39me\u001b[39;00m\n",
      "\u001b[0;31mPipelineSetupError\u001b[0m: Exception in ZarrSource[/mnt/efs/shared_data/restorators/monalisa_data/Actin_20nmScanStep/dataB.zarr] while calling setup()"
     ]
    }
   ],
   "source": [
    "with gp.build(pipeline):\n",
    "    batch = pipeline.request_batch(request)\n",
    "\n",
    "imshowPair(batch[raw].data.squeeze()[0], batch[gt].data.squeeze()[0])"
   ]
  }
 ],
 "metadata": {
  "kernelspec": {
   "display_name": "FC",
   "language": "python",
   "name": "python3"
  },
  "language_info": {
   "codemirror_mode": {
    "name": "ipython",
    "version": 3
   },
   "file_extension": ".py",
   "mimetype": "text/x-python",
   "name": "python",
   "nbconvert_exporter": "python",
   "pygments_lexer": "ipython3",
   "version": "3.10.12"
  },
  "orig_nbformat": 4
 },
 "nbformat": 4,
 "nbformat_minor": 2
}
