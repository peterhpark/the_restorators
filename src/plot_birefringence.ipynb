{
 "cells": [
  {
   "cell_type": "code",
   "execution_count": 1,
   "metadata": {},
   "outputs": [],
   "source": [
    "import numpy as np\n",
    "# import plotly\n",
    "import tifffile\n",
    "import matplotlib.pyplot as plt\n",
    "import stackview\n",
    "\n",
    "def plot_volume_plotly(optical_info, voxels_in=None, opacity=0.5, colormap='gray', fig=None):\n",
    "    '''Plots a 3D array with the non-zero voxels shaded.'''\n",
    "    voxels = voxels_in * 1.0\n",
    "    # Check if this is a torch tensor\n",
    "    if not isinstance(voxels_in, np.ndarray):\n",
    "        try:\n",
    "            voxels = voxels.detach()\n",
    "            voxels = voxels.cpu().abs().numpy()\n",
    "        except:\n",
    "            pass\n",
    "    voxels = np.abs(voxels)\n",
    "    err = (\"The set of voxels are expected to have non-zeros values. If the \" +\n",
    "        \"BirefringentVolume was cropped to fit into a region, the non-zero values \" +\n",
    "        \"may no longer be included.\")\n",
    "    assert voxels.any(), err\n",
    "\n",
    "    import plotly.graph_objects as go\n",
    "    volume_shape = optical_info['volume_shape']\n",
    "    volume_size_um = [optical_info['voxel_size_um'][i] * optical_info['volume_shape'][i] for i in range(3)]\n",
    "    # Define grid\n",
    "    coords = np.indices(np.array(voxels.shape)).astype(float)\n",
    "    # Shift by half a voxel and multiply by voxel size\n",
    "    coords = [(coords[i]+0.5) * optical_info['voxel_size_um'][i] for i in range(3)]\n",
    "    if fig is None:\n",
    "        fig = go.Figure()\n",
    "    fig.add_volume(\n",
    "        x=coords[0].flatten(),\n",
    "        y=coords[1].flatten(),\n",
    "        z=coords[2].flatten(),\n",
    "        value=voxels.flatten() / voxels.max(),\n",
    "        isomin=0,\n",
    "        isomax=0.1,\n",
    "        opacity=opacity, # needs to be small to see through all surfaces\n",
    "        surface_count=20, # needs to be a large number for good volume rendering\n",
    "        # colorscale=colormap\n",
    "        )\n",
    "    camera = {'eye': {'x': 50, 'y': 0, 'z': 0}}\n",
    "    fig.update_layout(\n",
    "        scene=dict(\n",
    "            xaxis = {\"nticks\": volume_shape[0], \"range\": [0, volume_size_um[0]]},\n",
    "            yaxis = {\"nticks\": volume_shape[1], \"range\": [0, volume_size_um[1]]},\n",
    "            zaxis = {\"nticks\": volume_shape[2], \"range\": [0, volume_size_um[2]]},\n",
    "            xaxis_title='Axial dimension',\n",
    "            aspectratio = {\"x\": volume_size_um[0], \"y\": volume_size_um[1], \"z\": volume_size_um[2]},\n",
    "            aspectmode = 'manual'\n",
    "            ),\n",
    "        scene_camera=camera,\n",
    "        margin={'r': 0, 'l': 0, 'b': 0, 't': 0},\n",
    "        autosize=True\n",
    "        )\n",
    "    # fig.data = fig.data[::-1]\n",
    "    # fig.show()\n",
    "    return fig\n",
    "\n",
    "def plot_lines_plotly(self, colormap='Bluered_r', size_scaler=5,\n",
    "                        fig=None, draw_spheres=True, delta_n_ths=0.1):\n",
    "    '''Plots the optic axis as lines and the birefringence as sphere\n",
    "    at the ends of the lines. Other parameters could be opacity=0.5 or mode='lines'\n",
    "    '''\n",
    "\n",
    "    # Fetch local data\n",
    "    delta_n = self.get_delta_n() * 1\n",
    "    optic_axis = self.get_optic_axis() * 1\n",
    "    optical_info = self.optical_info\n",
    "\n",
    "    # Check if this is a torch tensor\n",
    "    if not isinstance(delta_n, np.ndarray):\n",
    "        try:\n",
    "            delta_n = delta_n.cpu().detach().numpy()\n",
    "            optic_axis = optic_axis.cpu().detach().numpy()\n",
    "        except:\n",
    "            pass\n",
    "\n",
    "    delta_n /= np.max(np.abs(delta_n))\n",
    "    delta_n[np.abs(delta_n)<delta_n_ths] = 0\n",
    "\n",
    "    import plotly.graph_objects as go\n",
    "    volume_shape = optical_info['volume_shape']\n",
    "    volume_size_um = [optical_info['voxel_size_um'][i] * optical_info['volume_shape'][i] for i in range(3)]\n",
    "    [dz, dxy, dxy] = optical_info['voxel_size_um']\n",
    "    # Define grid\n",
    "    coords = np.indices(np.array(delta_n.shape)).astype(float)\n",
    "\n",
    "    coords_base = [(coords[i] + 0.5) * optical_info['voxel_size_um'][i] for i in range(3)]\n",
    "    coords_tip =  [(coords[i] + 0.5 + optic_axis[i,...] * delta_n * 0.75) * optical_info['voxel_size_um'][i] for i in range(3)]\n",
    "\n",
    "    # Plot single line per voxel, where it's length is delta_n\n",
    "    z_base, y_base, x_base = coords_base\n",
    "    z_tip, y_tip, x_tip = coords_tip\n",
    "\n",
    "    # Don't plot zero values\n",
    "    mask = delta_n==0\n",
    "    x_base[mask] = np.NaN\n",
    "    y_base[mask] = np.NaN\n",
    "    z_base[mask] = np.NaN\n",
    "    x_tip[mask] = np.NaN\n",
    "    y_tip[mask] = np.NaN\n",
    "    z_tip[mask] = np.NaN\n",
    "\n",
    "    # Gather all rays in single arrays, to plot them all at once, placing NAN in between them\n",
    "    array_size = 3 * len(x_base.flatten())\n",
    "    # Prepare colormap\n",
    "    all_x = np.empty((array_size))\n",
    "    all_x[::3] = x_base.flatten()\n",
    "    all_x[1::3] = x_tip.flatten()\n",
    "    all_x[2::3] = np.NaN\n",
    "    all_y = np.empty((array_size))\n",
    "    all_y[::3] = y_base.flatten()\n",
    "    all_y[1::3] = y_tip.flatten()\n",
    "    all_y[2::3] = np.NaN\n",
    "    all_z = np.empty((array_size))\n",
    "    all_z[::3] = z_base.flatten()\n",
    "    all_z[1::3] = z_tip.flatten()\n",
    "    all_z[2::3] = np.NaN\n",
    "    # Compute colors\n",
    "    all_color = np.empty((array_size))\n",
    "    all_color[::3] =    (x_base-x_tip).flatten() ** 2 + \\\n",
    "                        (y_base-y_tip).flatten() ** 2 + \\\n",
    "                        (z_base-z_tip).flatten() ** 2\n",
    "    # all_color[::3] =  delta_n.flatten() * 1.0\n",
    "    all_color[1::3] = all_color[::3]\n",
    "    all_color[2::3] = 0\n",
    "    all_color[np.isnan(all_color)] = 0\n",
    "\n",
    "    err = (\"The BirefringentVolume is expected to have non-zeros values. If the \" +\n",
    "        \"BirefringentVolume was cropped to fit into a region, the non-zero values \" +\n",
    "        \"may no longer be included.\")\n",
    "    assert any(all_color != 0), err\n",
    "\n",
    "    all_color[all_color!=0] -= all_color[all_color!=0].min()\n",
    "    all_color += 0.5\n",
    "    all_color /= all_color.max()\n",
    "\n",
    "    if fig is None:\n",
    "        fig = go.Figure()\n",
    "    fig.add_scatter3d(z=all_x, y=all_y, x=all_z,\n",
    "        marker={\"color\": all_color, \"colorscale\": colormap, \"size\": 4},\n",
    "        line={\"color\": all_color, \"colorscale\": colormap, \"width\": size_scaler},\n",
    "        connectgaps=False,\n",
    "        mode='lines'\n",
    "        )\n",
    "    if draw_spheres:\n",
    "        fig.add_scatter3d(z=x_base.flatten(), y=y_base.flatten(), x=z_base.flatten(),\n",
    "            marker={\"color\": all_color[::3] - 0.5,\n",
    "                    \"colorscale\": colormap,\n",
    "                    \"size\": size_scaler * 5 * all_color[::3]},\n",
    "            line={\"color\": all_color[::3] - 0.5, \"colorscale\": colormap, \"width\": 5},\n",
    "            mode='markers')\n",
    "    camera = {'eye': {'x': 50, 'y': 0, 'z': 0}}\n",
    "    fig.update_layout(\n",
    "        scene=dict(\n",
    "            xaxis = {\"nticks\": volume_shape[0], \"range\": [0, volume_size_um[0]]},\n",
    "            yaxis = {\"nticks\": volume_shape[1], \"range\": [0, volume_size_um[1]]},\n",
    "            zaxis = {\"nticks\": volume_shape[2], \"range\": [0, volume_size_um[2]]},\n",
    "            xaxis_title = 'Axial dimension',\n",
    "            aspectratio = {\"x\": volume_size_um[0], \"y\": volume_size_um[1], \"z\": volume_size_um[2]},\n",
    "            aspectmode = 'manual'\n",
    "            ),\n",
    "        scene_camera=camera,\n",
    "        margin={'r': 0, 'l': 0, 'b': 0, 't': 0},\n",
    "        )\n",
    "    # fig.data = fig.data[::-1]\n",
    "    # fig.show()\n",
    "    return fig\n",
    "\n"
   ]
  },
  {
   "cell_type": "code",
   "execution_count": 2,
   "metadata": {},
   "outputs": [
    {
     "data": {
      "image/png": "[encoded data removed]",
      "text/plain": [
       "<Figure size 432x288 with 1 Axes>"
      ]
     },
     "metadata": {
      "needs_background": "light"
     },
     "output_type": "display_data"
    }
   ],
   "source": [
    "DATA_PATH = \"/mnt/efs/shared_data/restorators/spheres\"\n",
    "obj = tifffile.imread(DATA_PATH + '/objects/0001_sphere.tiff')\n",
    "delta_n = obj[0, ...]\n",
    "optic_axis = obj[1:3, ...]\n",
    "plt.imshow(delta_n[4, ...])\n",
    "plt.show(block=True)\n",
    "plt.pause(0.2)"
   ]
  },
  {
   "cell_type": "code",
   "execution_count": 3,
   "metadata": {},
   "outputs": [
    {
     "data": {
      "text/html": [
       "<style>\n",
       ".python-iframe > iframe {\n",
       "  height:1000px !important;\n",
       "}\n",
       "</style>\n"
      ],
      "text/plain": [
       "<IPython.core.display.HTML object>"
      ]
     },
     "metadata": {},
     "output_type": "display_data"
    }
   ],
   "source": [
    "%%html\n",
    "<style>\n",
    ".python-iframe > iframe {\n",
    "  height:1000px !important;\n",
    "}\n",
    "</style>"
   ]
  },
  {
   "cell_type": "code",
   "execution_count": 4,
   "metadata": {},
   "outputs": [
    {
     "data": {
      "text/html": [
       "<style>\n",
       ".python-iframe > iframe {\n",
       "  height:1000px !important;\n",
       "}\n",
       "</style>\n"
      ],
      "text/plain": [
       "<IPython.core.display.HTML object>"
      ]
     },
     "metadata": {},
     "output_type": "display_data"
    }
   ],
   "source": [
    "%%html\n",
    "<style>\n",
    ".python-iframe > iframe {\n",
    "  height:1000px !important;\n",
    "}\n",
    "</style>"
   ]
  },
  {
   "cell_type": "code",
   "execution_count": 5,
   "metadata": {},
   "outputs": [
    {
     "data": {
      "application/vnd.jupyter.widget-view+json": {
       "model_id": "53f02444042648f0b1a6556a45b25666",
       "version_major": 2,
       "version_minor": 0
      },
      "text/plain": [
       "VBox(children=(HBox(children=(VBox(children=(ImageWidget(height=320, width=320),)),)), IntSlider(value=4, desc…"
      ]
     },
     "metadata": {},
     "output_type": "display_data"
    }
   ],
   "source": [
    "stackview.slice(delta_n, continuous_update=True, zoom_factor=10)"
   ]
  },
  {
   "cell_type": "code",
   "execution_count": 6,
   "metadata": {},
   "outputs": [],
   "source": [
    "# from ipywidgets import Image\n",
    "# img_delta = Image(value=delta_n[4, ...])"
   ]
  },
  {
   "cell_type": "code",
   "execution_count": null,
   "metadata": {},
   "outputs": [],
   "source": [
    "delta_n.layout.width = '100%'"
   ]
  },
  {
   "cell_type": "code",
   "execution_count": 8,
   "metadata": {},
   "outputs": [
    {
     "data": {
      "application/vnd.jupyter.widget-view+json": {
       "model_id": "0364dd8df8604cc794109df0b1435fb2",
       "version_major": 2,
       "version_minor": 0
      },
      "text/plain": [
       "HBox(children=(VBox(children=(HBox(children=(VBox(children=(ImageWidget(height=320, width=320),)),)), IntSlide…"
      ]
     },
     "metadata": {},
     "output_type": "display_data"
    }
   ],
   "source": [
    "stackview.orthogonal(delta_n, continuous_update=True, zoom_factor=10)"
   ]
  },
  {
   "cell_type": "code",
   "execution_count": null,
   "metadata": {},
   "outputs": [],
   "source": [
    "volume_shape = [8, 32, 32]\n",
    "volume_size_um = [1 * volume_shape[i] for i in range(3)]"
   ]
  },
  {
   "cell_type": "code",
   "execution_count": null,
   "metadata": {},
   "outputs": [],
   "source": [
    "voxels = np.abs(delta_n)\n",
    "# Define grid\n",
    "coords = np.indices(np.array(voxels.shape)).astype(float)\n",
    "# Shift by half a voxel and multiply by voxel size\n",
    "coords = [(coords[i]+0.5) * volume_size_um[i] for i in range(3)]\n",
    "fig = None\n",
    "if fig is None:\n",
    "    fig = go.Figure()\n",
    "fig.add_volume(\n",
    "    x=coords[0].flatten(),\n",
    "    y=coords[1].flatten(),\n",
    "    z=coords[2].flatten(),\n",
    "    value=voxels.flatten() / voxels.max(),\n",
    "    isomin=0,\n",
    "    isomax=0.1,\n",
    "    opacity=0.1, # needs to be small to see through all surfaces\n",
    "    surface_count=20, # needs to be a large number for good volume rendering\n",
    "    # colorscale=colormap\n",
    "    )"
   ]
  },
  {
   "cell_type": "code",
   "execution_count": 19,
   "metadata": {},
   "outputs": [
    {
     "name": "stdout",
     "output_type": "stream",
     "text": [
      "using cuda device\n"
     ]
    }
   ],
   "source": [
    "'''Script to test a trained model on the set of birefringence data'''\n",
    "import torch\n",
    "from Data import BirefringenceDataset\n",
    "from model_bir import BirNetwork\n",
    "\n",
    "device = (\n",
    "    \"cuda\"\n",
    "    if torch.cuda.is_available()\n",
    "    else \"mps\"\n",
    "    if torch.backends.mps.is_available()\n",
    "    else \"cpu\"\n",
    ")\n",
    "print(f\"using {device} device\")\n",
    "\n",
    "saved_model_dir = \"/mnt/efs/shared_data/restorators/models_bir/\"\n",
    "\n",
    "DATA_PATH = \"/mnt/efs/shared_data/restorators/spheres\"\n",
    "test_data = BirefringenceDataset(DATA_PATH, split='test')\n",
    "testloader = torch.utils.data.DataLoader(test_data, batch_size=1,\n",
    "                                         shuffle=False, num_workers=2)\n",
    "\n",
    "model_relu = BirNetwork().to(device)\n",
    "model_relu.eval()\n",
    "weights_relu = torch.load(saved_model_dir + 'sphere128.pt')\n",
    "model_relu.load_state_dict(weights_relu)\n",
    "\n",
    "model_leaky = BirNetwork().to(device)\n",
    "model_leaky.eval()\n",
    "weights_leaky = torch.load(saved_model_dir + 'sphere_9_2_epoch81.pt')\n",
    "model_leaky.load_state_dict(weights_relu)\n",
    "\n",
    "data_pair = test_data[0]\n",
    "source = data_pair[0]\n",
    "source = source.unsqueeze(axis=0).to(device)\n",
    "# source1 = source1\n",
    "with torch.no_grad():\n",
    "    target_pred_relu = model_relu(source).cpu()"
   ]
  },
  {
   "cell_type": "code",
   "execution_count": 20,
   "metadata": {},
   "outputs": [],
   "source": [
    "pred = target_pred_relu.squeeze(axis=0)\n",
    "delta_pred = pred[0, ...].detach().numpy()"
   ]
  },
  {
   "cell_type": "code",
   "execution_count": 21,
   "metadata": {},
   "outputs": [
    {
     "data": {
      "application/vnd.jupyter.widget-view+json": {
       "model_id": "9ca7886586944da89a56244a051c5e99",
       "version_major": 2,
       "version_minor": 0
      },
      "text/plain": [
       "HBox(children=(VBox(children=(HBox(children=(VBox(children=(ImageWidget(height=320, width=320),)),)), IntSlide…"
      ]
     },
     "metadata": {},
     "output_type": "display_data"
    }
   ],
   "source": [
    "stackview.orthogonal(delta_pred, continuous_update=True, zoom_factor=10)"
   ]
  },
  {
   "cell_type": "code",
   "execution_count": null,
   "metadata": {},
   "outputs": [],
   "source": [
    "target = data_pair[1]\n",
    "delta_gt = target[0, ...]\n",
    "stackview.orthogonal(delta_gt, continuous_update=True, zoom_factor=10)"
   ]
  },
  {
   "cell_type": "code",
   "execution_count": null,
   "metadata": {},
   "outputs": [],
   "source": []
  }
 ],
 "metadata": {
  "kernelspec": {
   "display_name": "06_instance_segmentation",
   "language": "python",
   "name": "python3"
  },
  "language_info": {
   "codemirror_mode": {
    "name": "ipython",
    "version": 3
   },
   "file_extension": ".py",
   "mimetype": "text/x-python",
   "name": "python",
   "nbconvert_exporter": "python",
   "pygments_lexer": "ipython3",
   "version": "3.8.13"
  },
  "orig_nbformat": 4
 },
 "nbformat": 4,
 "nbformat_minor": 2
}
